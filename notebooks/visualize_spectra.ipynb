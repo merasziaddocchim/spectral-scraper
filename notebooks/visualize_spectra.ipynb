{
 "cells": [
  {
   "cell_type": "markdown",
   "metadata": {},
   "source": [
    "# 📊 Visualize Spectral Data (IR + NMR)"
   ]
  },
  {
   "cell_type": "code",
   "execution_count": null,
   "metadata": {},
   "outputs": [],
   "source": [
    "import pandas as pd\n",
    "import matplotlib.pyplot as plt\n",
    "import seaborn as sns\n",
    "import os"
   ]
  },
  {
   "cell_type": "code",
   "execution_count": null,
   "metadata": {},
   "outputs": [],
   "source": [
    "# Load the full dataset\n",
    "df = pd.read_parquet(\"../data/processed/spectral_dataset.parquet\")\n",
    "df.head()"
   ]
  },
  {
   "cell_type": "markdown",
   "metadata": {},
   "source": [
    "## 🔬 IR Spectrum"
   ]
  },
  {
   "cell_type": "code",
   "execution_count": null,
   "metadata": {},
   "outputs": [],
   "source": [
    "# Choose first compound with IR data\n",
    "compound = df.iloc[0]\n",
    "ir_data = pd.DataFrame(compound['ir_spectrum'])\n",
    "\n",
    "plt.figure(figsize=(10, 5))\n",
    "plt.plot(ir_data['wavenumber'], ir_data['transmittance'])\n",
    "plt.title(f\"IR Spectrum: {compound['compound']}\")\n",
    "plt.xlabel(\"Wavenumber (cm⁻¹)\")\n",
    "plt.ylabel(\"Transmittance (%)\")\n",
    "plt.gca().invert_xaxis()\n",
    "plt.grid(True)\n",
    "plt.show()"
   ]
  },
  {
   "cell_type": "markdown",
   "metadata": {},
   "source": [
    "## 🧪 NMR Spectrum (Peak Visualization)"
   ]
  },
  {
   "cell_type": "code",
   "execution_count": null,
   "metadata": {},
   "outputs": [],
   "source": [
    "nmr_data = pd.DataFrame(compound['nmr_peaks'])\n",
    "\n",
    "plt.figure(figsize=(10, 4))\n",
    "sns.scatterplot(data=nmr_data, x='shift', y='intensity', hue='assignment', palette='husl')\n",
    "plt.title(f\"NMR Peaks: CID {compound['cid']}\")\n",
    "plt.xlabel(\"Chemical Shift (ppm)\")\n",
    "plt.ylabel(\"Intensity\")\n",
    "plt.gca().invert_xaxis()\n",
    "plt.grid(True)\n",
    "plt.legend(loc='upper right')\n",
    "plt.show()"
   ]
  },
  {
   "cell_type": "markdown",
   "metadata": {},
   "source": [
    "## ⚗️ Molecular Summary"
   ]
  },
  {
   "cell_type": "code",
   "execution_count": null,
   "metadata": {},
   "outputs": [],
   "source": [
    "df[['cid', 'compound', 'molecular_weight', 'formula']].head()"
   ]
  }
 ],
 "metadata": {
  "kernelspec": {
   "display_name": "Python 3",
   "language": "python",
   "name": "python3"
  },
  "language_info": {
   "name": "python",
   "version": ""
  }
 },
 "nbformat": 4,
 "nbformat_minor": 5
}
